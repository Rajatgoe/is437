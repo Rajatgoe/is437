{
 "cells": [
  {
   "cell_type": "code",
   "execution_count": null,
   "metadata": {},
   "outputs": [],
   "source": [
    "'''\n",
    "video - functions in python:\n",
    "    -signature\n",
    "    -args\n",
    "    -optional args\n",
    "    -keyword args\n",
    "    -return vals\n",
    "    -print in function?\n",
    "\n",
    "\n",
    "\n",
    "'''"
   ]
  },
  {
   "cell_type": "code",
   "execution_count": null,
   "metadata": {},
   "outputs": [],
   "source": []
  },
  {
   "cell_type": "code",
   "execution_count": 26,
   "metadata": {},
   "outputs": [],
   "source": [
    "def putInCategory(l):\n",
    "    result_out = []\n",
    "    result_in = []\n",
    "    for item in l:\n",
    "        if item < 50:\n",
    "            result_out.append(item)\n",
    "        elif item > 60:\n",
    "            result_out.append(item)\n",
    "        else:\n",
    "            result_in.append(item)\n",
    "    return [result_in,result_out]"
   ]
  },
  {
   "cell_type": "code",
   "execution_count": null,
   "metadata": {},
   "outputs": [],
   "source": []
  },
  {
   "cell_type": "code",
   "execution_count": 27,
   "metadata": {},
   "outputs": [
    {
     "name": "stdout",
     "output_type": "stream",
     "text": [
      "[[55, 57, 59], [30, 20, 45, 70, 80]]\n"
     ]
    }
   ],
   "source": [
    "ml = [30,20,55,57,45,70,80,59]\n",
    "\n",
    "print(putInCategory(ml))"
   ]
  },
  {
   "cell_type": "code",
   "execution_count": 28,
   "metadata": {},
   "outputs": [],
   "source": [
    "def concatFields(fnl,paren=False):\n",
    "    s = '`,`'.join(fnl)\n",
    "    if paren:\n",
    "        return '(`'+s+'`)'\n",
    "    else:\n",
    "        return '`'+s+'`'\n",
    "        \n",
    "        "
   ]
  },
  {
   "cell_type": "code",
   "execution_count": 29,
   "metadata": {},
   "outputs": [
    {
     "name": "stdout",
     "output_type": "stream",
     "text": [
      "`user_id`,`uer_name`,`user_email`\n",
      "(`user_id`,`uer_name`,`user_email`)\n"
     ]
    }
   ],
   "source": [
    "fields = ['user_id','uer_name','user_email']\n",
    "sql = concatFields(fields)\n",
    "print(sql)\n",
    "\n",
    "sql = concatFields(fields,True)\n",
    "print(sql)"
   ]
  },
  {
   "cell_type": "code",
   "execution_count": 30,
   "metadata": {},
   "outputs": [
    {
     "name": "stdout",
     "output_type": "stream",
     "text": [
      "(`user_id`,`uer_name`,`user_email`)\n"
     ]
    }
   ],
   "source": [
    "sql = concatFields(fnl=fields,paren=True)\n",
    "print(sql)"
   ]
  },
  {
   "cell_type": "code",
   "execution_count": 31,
   "metadata": {},
   "outputs": [],
   "source": [
    "def concatFields2(fnl,paren=False):\n",
    "    s = '`,`'.join(fnl)\n",
    "    if paren:\n",
    "        print('(`'+s+'`)')\n",
    "    else:\n",
    "        print('`'+s+'`')\n"
   ]
  },
  {
   "cell_type": "code",
   "execution_count": 32,
   "metadata": {},
   "outputs": [
    {
     "name": "stdout",
     "output_type": "stream",
     "text": [
      "`user_id`,`uer_name`,`user_email`\n",
      "None\n",
      "(`user_id`,`uer_name`,`user_email`)\n",
      "None\n"
     ]
    }
   ],
   "source": [
    "fields = ['user_id','uer_name','user_email']\n",
    "sql = concatFields2(fields)\n",
    "print(sql)\n",
    "\n",
    "sql = concatFields2(fields,True)\n",
    "print(sql)"
   ]
  },
  {
   "cell_type": "code",
   "execution_count": 35,
   "metadata": {},
   "outputs": [],
   "source": [
    "def concatFieldsDebug(fnl,paren=False):\n",
    "    s = '`,`'.join(fnl)\n",
    "    #print(s)\n",
    "    if paren:\n",
    "        return '(`'+s+'`)'\n",
    "    else:\n",
    "        return '`'+s+'`'"
   ]
  },
  {
   "cell_type": "code",
   "execution_count": 36,
   "metadata": {},
   "outputs": [
    {
     "name": "stdout",
     "output_type": "stream",
     "text": [
      "`user_id`,`uer_name`,`user_email`\n"
     ]
    }
   ],
   "source": [
    "fields = ['user_id','uer_name','user_email']\n",
    "sql = concatFieldsDebug(fields)\n",
    "print(sql)"
   ]
  },
  {
   "cell_type": "code",
   "execution_count": null,
   "metadata": {},
   "outputs": [],
   "source": [
    "ml = [30,20,55,57,45,70,80,59]\n",
    "\n",
    "sml = sorted(ml,reverse=True)\n",
    "\n",
    "print(sml)"
   ]
  },
  {
   "cell_type": "code",
   "execution_count": null,
   "metadata": {
    "jupyter": {
     "source_hidden": true
    }
   },
   "outputs": [],
   "source": [
    "'''\n",
    "Day 2\n",
    "- Lecture - multi value args / returns\n",
    "    -variable scopes\n",
    "- Driver - write a function def which takes a list of event start and end times and returns the length of each in seconds\n",
    "'''"
   ]
  },
  {
   "cell_type": "code",
   "execution_count": null,
   "metadata": {},
   "outputs": [],
   "source": []
  }
 ],
 "metadata": {
  "kernelspec": {
   "display_name": "Python 3",
   "language": "python",
   "name": "python3"
  },
  "language_info": {
   "codemirror_mode": {
    "name": "ipython",
    "version": 3
   },
   "file_extension": ".py",
   "mimetype": "text/x-python",
   "name": "python",
   "nbconvert_exporter": "python",
   "pygments_lexer": "ipython3",
   "version": "3.7.0"
  }
 },
 "nbformat": 4,
 "nbformat_minor": 4
}
