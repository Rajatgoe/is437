{
 "cells": [
  {
   "cell_type": "code",
   "execution_count": null,
   "id": "3a4cdd0d-c311-420d-8cdc-4def988dbef7",
   "metadata": {},
   "outputs": [],
   "source": [
    "Create a function with the following signature:\n",
    "\n",
    "def createTableSQL(table_name,fields):\n",
    "Where table_name is a string and fields is a list of strings.  \n",
    "It should return a SQL string which is the CREATE TABLE SQL required to create the table \n",
    "in a SQL DB.  You should use the following general pattern:\n",
    "\n",
    "CREATE TABLE IF NOT EXISTS `{table_name}` (\n",
    "`{field1}` varchar(255) NOT NULL,\n",
    "`{field2}` varchar(255) NOT NULL,\n",
    ") ENGINE=MyISAM DEFAULT CHARSET=latin1 AUTO_INCREMENT=1 ;\n",
    "\n",
    "Your function should be called like this in the Python script you submit:\n",
    "\n",
    "print(createTableSQL('test_users',['id','name','email','phone','password']))"
   ]
  },
  {
   "cell_type": "code",
   "execution_count": null,
   "id": "92283bbf-9635-4741-9bd8-979887362db1",
   "metadata": {},
   "outputs": [],
   "source": [
    "def createTableSQL(table_name,fields):\n",
    "    \n",
    "    \n",
    "t_name = (\"1\",\"2\",\"3\",\"4\")\n",
    "f_name =[\"Andrew\",\"James\",\"Michelle\",\"Maradona\"]"
   ]
  }
 ],
 "metadata": {
  "kernelspec": {
   "display_name": "Python 3 (ipykernel)",
   "language": "python",
   "name": "python3"
  },
  "language_info": {
   "codemirror_mode": {
    "name": "ipython",
    "version": 3
   },
   "file_extension": ".py",
   "mimetype": "text/x-python",
   "name": "python",
   "nbconvert_exporter": "python",
   "pygments_lexer": "ipython3",
   "version": "3.7.0"
  }
 },
 "nbformat": 4,
 "nbformat_minor": 5
}
