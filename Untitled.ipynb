{
 "cells": [
  {
   "cell_type": "code",
   "execution_count": 1,
   "id": "613c9874-cd39-4acf-9bbb-a430eab1c5a6",
   "metadata": {},
   "outputs": [],
   "source": [
    "def concatField(fnl,paren= False):   #mandatory argument, optional Argument\n",
    "    s = '`,`'.join(fnl)\n",
    "    #print(s)          #print will not save the output in memory for future use, but return will\n",
    "    if paren:          # save it and we can use it in other iteration\n",
    "        return '(`' + s + '`)'\n",
    "    else:\n",
    "        return '`' + s + '`'"
   ]
  },
  {
   "cell_type": "code",
   "execution_count": 2,
   "id": "de72738a-2dcc-43f8-80b4-415bcd402b10",
   "metadata": {},
   "outputs": [
    {
     "name": "stdout",
     "output_type": "stream",
     "text": [
      "`user_id`,`user_name`,`user_email`\n"
     ]
    }
   ],
   "source": [
    "fields  = ['user_id','user_name','user_email']\n",
    "sql = concatField(fields)\n",
    "print(sql)"
   ]
  },
  {
   "cell_type": "code",
   "execution_count": 3,
   "id": "5b3ca707-40f2-4f4b-a38d-debd163c4451",
   "metadata": {},
   "outputs": [
    {
     "name": "stdout",
     "output_type": "stream",
     "text": [
      "(`user_id`,`user_name`,`user_email`)\n"
     ]
    }
   ],
   "source": [
    "sql = concatField(fields,True)\n",
    "print(sql)"
   ]
  },
  {
   "cell_type": "code",
   "execution_count": 9,
   "id": "9e076468-f1b1-45ae-adb5-64278934064c",
   "metadata": {},
   "outputs": [
    {
     "name": "stdout",
     "output_type": "stream",
     "text": [
      "[7, 6, 5, 4, 3, 2, 1]\n"
     ]
    }
   ],
   "source": [
    "m = [1,2,3,4,5,6,7]\n",
    "ml = sorted(m,reverse = True)\n",
    "print(ml)"
   ]
  },
  {
   "cell_type": "code",
   "execution_count": 17,
   "id": "f6532a5f-c7c5-4801-a262-4f2d1bdb6991",
   "metadata": {},
   "outputs": [
    {
     "name": "stdout",
     "output_type": "stream",
     "text": [
      "3\n"
     ]
    }
   ],
   "source": [
    "\n",
    "def myfunc(a,b):\n",
    "    print(str(a+b))\n",
    "\n",
    "result = myfunc(1,2)"
   ]
  },
  {
   "cell_type": "code",
   "execution_count": null,
   "id": "b8dc8ad7-45d0-42bd-a2f7-7bd071aae90d",
   "metadata": {},
   "outputs": [],
   "source": []
  }
 ],
 "metadata": {
  "kernelspec": {
   "display_name": "Python 3 (ipykernel)",
   "language": "python",
   "name": "python3"
  },
  "language_info": {
   "codemirror_mode": {
    "name": "ipython",
    "version": 3
   },
   "file_extension": ".py",
   "mimetype": "text/x-python",
   "name": "python",
   "nbconvert_exporter": "python",
   "pygments_lexer": "ipython3",
   "version": "3.7.0"
  }
 },
 "nbformat": 4,
 "nbformat_minor": 5
}
