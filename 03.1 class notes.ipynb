{
 "cells": [
  {
   "cell_type": "code",
   "execution_count": null,
   "metadata": {},
   "outputs": [],
   "source": [
    "'''\n",
    "Lecture:\n",
    "    -Classes in real life (why classes can be difficult to build)\n",
    "    -why do we build classes\n",
    "        -reuse code / maintaining code\n",
    "        -encapsulating code\n",
    "        -testing\n",
    "        -collaboration on team projects\n",
    "\n",
    "'''"
   ]
  },
  {
   "cell_type": "code",
   "execution_count": null,
   "metadata": {},
   "outputs": [],
   "source": [
    "'''\n",
    "Build a class def for an airline flight price request.\n",
    "    -what properties and methods should it have\n",
    "    -how will it be used?\n",
    "\n",
    "'''"
   ]
  },
  {
   "cell_type": "code",
   "execution_count": null,
   "metadata": {},
   "outputs": [],
   "source": [
    "'''\n",
    "Build a class def for a simple math calculator \n",
    "    -it should support adding, subtracting, multiplying and dividing two numbers\n",
    "    -it should have a 10 answer history\n",
    "'''"
   ]
  }
 ],
 "metadata": {
  "kernelspec": {
   "display_name": "Python 3",
   "language": "python",
   "name": "python3"
  },
  "language_info": {
   "codemirror_mode": {
    "name": "ipython",
    "version": 3
   },
   "file_extension": ".py",
   "mimetype": "text/x-python",
   "name": "python",
   "nbconvert_exporter": "python",
   "pygments_lexer": "ipython3",
   "version": "3.7.0"
  }
 },
 "nbformat": 4,
 "nbformat_minor": 4
}
