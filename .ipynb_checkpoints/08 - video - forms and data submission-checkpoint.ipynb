{
 "cells": [
  {
   "cell_type": "code",
   "execution_count": null,
   "metadata": {},
   "outputs": [],
   "source": [
    "'''\n",
    "Video:  Data flow, HTML forms, action,method, POST, request.form.get(),different form elements\n",
    "\n",
    "    Client Browser                    Flask App\n",
    "┌──────────────────┬───────────────►┌──────────────┐\n",
    "│  Name:           │ req: /enterName│              │\n",
    "│ ┌─────────────┐  │◄───────────────┤ route:enterName\n",
    "│ │ Tyler|      │  │ resp:          │              │\n",
    "│ │             │  │ nameForm.html  │              │\n",
    "│ └─────────────┘  │                │              │\n",
    "│                  │                │              │\n",
    "│                  │                │              │\n",
    "│                  │                │              │\n",
    "│        ┌──────┐  │                │              │\n",
    "│        │Submit│  ├───────────────►│ route:submitName            ┌────────────────────┐\n",
    "│        └──────┘  │req: /submitName│              │              │                    │\n",
    "│                  │                │              ├────────────► │  MySQL:            │\n",
    "├──────────────────┤                │              │INSERT INTO   │                    │\n",
    "├──────────────────┤                │              │names...      │  names table       │\n",
    "│                  │◄───────────────┤              │              │                    │\n",
    "│ name added!      │ resp: ok msg   │              │              │                    │\n",
    "│                  │                │              │              │                    │\n",
    "│                  │                │              │              │                    │\n",
    "│                  │                │              │              └────────────────────┘\n",
    "│                  │                │              │\n",
    "│                  │                │              │\n",
    "│                  │                │              │\n",
    "│                  │                │              │\n",
    "└──────────────────┘                └──────────────┴─\n",
    "\n",
    "\n",
    "\n",
    "form inputs:\n",
    "    text,password,number,datetime-local\n",
    "    select (dropdown), textarea\n",
    "    \n",
    "<input type=\"text\" name=\"myname\" />\n",
    "<input type=\"password\" name=\"user_password\" />\n",
    "<input type=\"number\" min=\"0\" max=\"100\" name=\"quantity\" />\n",
    "<input type=\"datetime-local\" name=\"meeting_time\" />\n",
    "\n",
    "<select name=\"want_fries\">\n",
    "    <option value=\"True\">Yes</option>\n",
    "    <option value=\"False\">No</option>\n",
    "</select>\n",
    "\n",
    "<textarea name=\"greeting\">\n",
    "    Hello and welcome to our holiday party!\n",
    "</textarea>\n",
    "\n",
    "'''"
   ]
  },
  {
   "cell_type": "raw",
   "metadata": {},
   "source": [
    "#endpoints in main.py:\n",
    "@app.route('/enterName')\n",
    "def enterName():\n",
    "    return render_template('nameForm.html')\n",
    "    \n",
    "@app.route('/submitName',methods=['GET','POST'])\n",
    "def submitName():\n",
    "    username = request.form.get('myname')\n",
    "    print(username)\n",
    "    #At this point we would INSERT the user's name to the mysql table\n",
    "    return render_template('message.html',msg='name added!')"
   ]
  },
  {
   "cell_type": "raw",
   "metadata": {},
   "source": [
    "nameForm.html\n",
    "{% extends \"base.html\" %}\n",
    "\n",
    "{% block content %}\n",
    "            <form action=\"/submitName\" method=\"POST\">\n",
    "\t\t\t\tName:<br>\n",
    "\t\t\t\t<input type=\"text\" name=\"myname\" />\n",
    "\t\t\t\t<br>\n",
    "\t\t\t\t<input type=\"submit\" value=\"Submit\" />\n",
    "\t\t\t</form>\n",
    "{% endblock %}"
   ]
  },
  {
   "cell_type": "raw",
   "metadata": {},
   "source": [
    "#message.html\n",
    "{% extends \"base.html\" %}\n",
    "\n",
    "{% block content %}\n",
    "            <div>\n",
    "\t\t\t{% if msg %}\n",
    "\t\t\t\t\t{{ msg }}\n",
    "\t\t\t\t{% else %}\n",
    "\t\t\t\t\tOk\n",
    "\t\t\t\t{% endif %}\n",
    "\t\t\t</div>\n",
    "{% endblock %}"
   ]
  }
 ],
 "metadata": {
  "kernelspec": {
   "display_name": "Python 3",
   "language": "python",
   "name": "python3"
  },
  "language_info": {
   "codemirror_mode": {
    "name": "ipython",
    "version": 3
   },
   "file_extension": ".py",
   "mimetype": "text/x-python",
   "name": "python",
   "nbconvert_exporter": "python",
   "pygments_lexer": "ipython3",
   "version": "3.7.0"
  }
 },
 "nbformat": 4,
 "nbformat_minor": 4
}
