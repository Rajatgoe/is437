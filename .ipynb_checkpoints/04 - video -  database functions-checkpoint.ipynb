{
 "cells": [
  {
   "cell_type": "code",
   "execution_count": null,
   "metadata": {},
   "outputs": [],
   "source": [
    "'''\n",
    "Video - pymysql module:\n",
    "-connection,cursor,CRUD, sql errors\n",
    "\n",
    "Day 1 \n",
    "\n",
    "Lecture - mysql connectivity via pymysql.\n",
    "    -inserting data \n",
    "    -selecting data\n",
    "Driver - Create a function which inserts an airline flight record into a table.  \n",
    "Assignment - Create a function which inserts a user into a 3 column table. The function should take 2 args - firstname and lastname.  The table shouls \n",
    "\n",
    "'''"
   ]
  }
 ],
 "metadata": {
  "kernelspec": {
   "display_name": "Python 3",
   "language": "python",
   "name": "python3"
  },
  "language_info": {
   "codemirror_mode": {
    "name": "ipython",
    "version": 3
   },
   "file_extension": ".py",
   "mimetype": "text/x-python",
   "name": "python",
   "nbconvert_exporter": "python",
   "pygments_lexer": "ipython3",
   "version": "3.7.0"
  }
 },
 "nbformat": 4,
 "nbformat_minor": 4
}
