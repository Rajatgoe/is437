{
 "cells": [
  {
   "cell_type": "code",
   "execution_count": null,
   "metadata": {},
   "outputs": [],
   "source": [
    "'''\n",
    "Video:\n",
    "-How to write a class def, instance, methods, properties, inside/outside\n",
    "\n",
    "Day 1\n",
    "-Lecture -  - write a class def for a airline ticket.  Class instance, unt tests\n",
    "-Driver - write a class def for a college course\n",
    "\n",
    "'''"
   ]
  },
  {
   "cell_type": "code",
   "execution_count": null,
   "metadata": {},
   "outputs": [],
   "source": []
  },
  {
   "cell_type": "code",
   "execution_count": null,
   "metadata": {},
   "outputs": [],
   "source": [
    "'''\n",
    "Assignment - Write a class def for a student.  The contructor should take 3 args - fname,lname and uid \n",
    "\n",
    "...with the following properties\n",
    "-first name\n",
    "-last name\n",
    "-email\n",
    "-phone\n",
    "-password\n",
    "-uid \n",
    "\n",
    "...and the following methods\n",
    "-setPassword() - password must be longer than 3 chars\n",
    "-setEmail() - email much contain @ and .\n",
    "-showInfo() - should return a string with select student info formatted as shown below:\n",
    "\n",
    "Make sure your class def passes this unit test:\n",
    "'''\n",
    "\n",
    "s = student('Jim',\"Smith\")\n",
    "s.setPassword(\"123\") #should print error\n",
    "s.setPassword(\"1234\") \n",
    "s.setEmail(\"\") #should print error\n",
    "s.setEmail('a@a.com')\n",
    "s.showInfo()\n",
    "\n",
    "'''\n",
    "{student.lname},{student.fname}   {student.uid}\n",
    "==============\n",
    "{student.email} \n",
    "{student.phone}\n",
    "'''\n",
    "\n"
   ]
  },
  {
   "cell_type": "code",
   "execution_count": null,
   "metadata": {},
   "outputs": [],
   "source": [
    "'''\n",
    "-Day 2\n",
    "-Lecure - data structures - properties as dictionaries, properties which are lists\n",
    "-Driver - refactor the airline flight class def to use collections.\n",
    "'''"
   ]
  }
 ],
 "metadata": {
  "kernelspec": {
   "display_name": "Python 3",
   "language": "python",
   "name": "python3"
  },
  "language_info": {
   "codemirror_mode": {
    "name": "ipython",
    "version": 3
   },
   "file_extension": ".py",
   "mimetype": "text/x-python",
   "name": "python",
   "nbconvert_exporter": "python",
   "pygments_lexer": "ipython3",
   "version": "3.7.0"
  }
 },
 "nbformat": 4,
 "nbformat_minor": 4
}
