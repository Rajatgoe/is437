{
 "cells": [
  {
   "cell_type": "code",
   "execution_count": null,
   "metadata": {},
   "outputs": [],
   "source": [
    "'''\n",
    "Day 1:\n",
    "-Lecture - writing a function def for a function that takes an age in year and returns a number of seconds, \n",
    "    -signature\n",
    "    -args\n",
    "    -optional args\n",
    "    -keyword args\n",
    "    -return vals\n",
    "    -print in function?\n",
    "-Driver - write a function def which takes a phone number in the format 888-888-8888 and returns a list of 2 strings containing the number and \n",
    "        area code\n",
    "'''"
   ]
  },
  {
   "cell_type": "code",
   "execution_count": null,
   "metadata": {},
   "outputs": [],
   "source": []
  },
  {
   "cell_type": "code",
   "execution_count": null,
   "metadata": {},
   "outputs": [],
   "source": [
    "'''\n",
    "Day 2\n",
    "- Lecture - multi value args / returns\n",
    "    -variable scopes\n",
    "- Driver - write a function def which takes a list of event start and end times and returns the length of each in seconds\n",
    "'''"
   ]
  },
  {
   "cell_type": "code",
   "execution_count": null,
   "metadata": {},
   "outputs": [],
   "source": []
  }
 ],
 "metadata": {
  "kernelspec": {
   "display_name": "Python 3",
   "language": "python",
   "name": "python3"
  },
  "language_info": {
   "codemirror_mode": {
    "name": "ipython",
    "version": 3
   },
   "file_extension": ".py",
   "mimetype": "text/x-python",
   "name": "python",
   "nbconvert_exporter": "python",
   "pygments_lexer": "ipython3",
   "version": "3.7.0"
  }
 },
 "nbformat": 4,
 "nbformat_minor": 4
}
