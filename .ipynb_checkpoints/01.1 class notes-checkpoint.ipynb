{
 "cells": [
  {
   "cell_type": "code",
   "execution_count": null,
   "metadata": {},
   "outputs": [],
   "source": [
    "'''\n",
    "Live Session\n",
    "    -attendance\n",
    "    -github client to clone is437 repo\n",
    "    -jupyter lab\n",
    "    -solve select problems.\n",
    "    -upload ipynb to moodle\n",
    "    \n",
    "\n",
    "'''"
   ]
  },
  {
   "cell_type": "markdown",
   "metadata": {},
   "source": [
    "### Types and strings"
   ]
  },
  {
   "cell_type": "code",
   "execution_count": 1,
   "metadata": {},
   "outputs": [],
   "source": [
    "# 1.1 Assign a variable `s` to a string literal."
   ]
  },
  {
   "cell_type": "code",
   "execution_count": null,
   "metadata": {},
   "outputs": [],
   "source": [
    "# 1.2 Assign a variable p as an integer."
   ]
  },
  {
   "cell_type": "code",
   "execution_count": null,
   "metadata": {},
   "outputs": [],
   "source": [
    "# 1.3 Print a string literal."
   ]
  },
  {
   "cell_type": "code",
   "execution_count": null,
   "metadata": {},
   "outputs": [],
   "source": [
    "# 1.4 Assign a variable `answer` to be the concatination of variables `s` and p``"
   ]
  },
  {
   "cell_type": "code",
   "execution_count": null,
   "metadata": {},
   "outputs": [],
   "source": [
    "# 1.5\n",
    "d = 20\n",
    "m = 10\n",
    "y = 2015\n",
    "# Print the date stored as the variables above as a string in the format yyyy-mm-dd"
   ]
  },
  {
   "cell_type": "code",
   "execution_count": null,
   "metadata": {},
   "outputs": [],
   "source": [
    "# 1.6\n",
    "m = 15\n",
    "s = 0\n",
    "h = 10\n",
    "# print the time stored in the variables above in the format hh:mm:ss"
   ]
  },
  {
   "cell_type": "code",
   "execution_count": null,
   "metadata": {},
   "outputs": [],
   "source": [
    "# 1.7 Add the string `PM` to the end of the string `ts` defined below. Save the result as a new string `ts`:\n",
    "ts = \"10:44\""
   ]
  },
  {
   "cell_type": "markdown",
   "metadata": {},
   "source": [
    "### Collections"
   ]
  },
  {
   "cell_type": "code",
   "execution_count": null,
   "metadata": {},
   "outputs": [],
   "source": [
    "# 2.1 Create a list of ints, `l`"
   ]
  },
  {
   "cell_type": "code",
   "execution_count": null,
   "metadata": {},
   "outputs": [],
   "source": [
    "# 2.2 Create a list of strings literals `sl`"
   ]
  },
  {
   "cell_type": "code",
   "execution_count": null,
   "metadata": {},
   "outputs": [],
   "source": [
    "# 2.3 print the string `FROM` from the list below:\n",
    "col = \"*\"\n",
    "table = \"users\"\n",
    "sql = [\"SELECT\",col,\"FROM\",table]"
   ]
  },
  {
   "cell_type": "code",
   "execution_count": null,
   "metadata": {},
   "outputs": [],
   "source": [
    "# 2.4 assign the list above as single string, `ss` which is composed of the list items seperated by spaces"
   ]
  },
  {
   "cell_type": "code",
   "execution_count": null,
   "metadata": {},
   "outputs": [],
   "source": [
    "# 2.5 add the following strings (in order_by) to the string `ss`\n",
    "ofn = \"name\"\n",
    "order_by = [\"ORDER\", \"BY\", ofn]"
   ]
  },
  {
   "cell_type": "code",
   "execution_count": null,
   "metadata": {},
   "outputs": [],
   "source": [
    "# 2.6 Assign a new list `sql_l` which contains all the items from sql and order_by.  This list should not contain any lists."
   ]
  },
  {
   "cell_type": "code",
   "execution_count": null,
   "metadata": {},
   "outputs": [],
   "source": [
    "'''\n",
    "a | b | c\n",
    "=============\n",
    "1 | 2 | 3\n",
    "4 | 5 | 6\n",
    "'''\n",
    "\n",
    "# 2.7 Write a script which prints the string below called 'data_str' in the format above\n",
    "\n",
    "data_str = '''a,b,c\n",
    "1,2,3\n",
    "4,5,6'''"
   ]
  },
  {
   "cell_type": "markdown",
   "metadata": {},
   "source": [
    "### Loops / iteration"
   ]
  },
  {
   "cell_type": "code",
   "execution_count": null,
   "metadata": {},
   "outputs": [],
   "source": [
    "# Create a loop which prints each item in the list bleow on it own line with a number next to it\n",
    "\n",
    "ml = ['Boston','New York','Los Angles','Dallas']\n",
    "\n"
   ]
  },
  {
   "cell_type": "code",
   "execution_count": 1,
   "metadata": {},
   "outputs": [],
   "source": [
    "# Create a loop which prints each kv pair like so (whitespace does not matter):\n",
    "'''\n",
    "City       | Temp.\n",
    "========== | ======\n",
    "Boston     | 43\n",
    "New York   | 47\n",
    "Los Angles | 71\n",
    "Dallas     | 68\n",
    "'''\n",
    "wx = {'Boston':43,'New York':47,'Los Angles':71,'Dallas':68}\n"
   ]
  },
  {
   "cell_type": "code",
   "execution_count": null,
   "metadata": {},
   "outputs": [],
   "source": [
    "# create a loop which creates the same output as above except it stores it to a variable 's'"
   ]
  },
  {
   "cell_type": "code",
   "execution_count": null,
   "metadata": {},
   "outputs": [],
   "source": [
    "# Create a loop which generates a list of all the numbers between 0 and 10.  print the list"
   ]
  },
  {
   "cell_type": "code",
   "execution_count": 7,
   "metadata": {},
   "outputs": [
    {
     "name": "stdout",
     "output_type": "stream",
     "text": [
      "d\n",
      "e\n",
      "f\n"
     ]
    }
   ],
   "source": [
    "# Create a loop which generates a list of all the letters between a and z.  print the list \n",
    "#HINT: (use chr codes)\n",
    "print(chr(100))\n",
    "print(chr(101))\n",
    "print(chr(102))"
   ]
  },
  {
   "cell_type": "code",
   "execution_count": null,
   "metadata": {},
   "outputs": [],
   "source": [
    "#create a loop which creates a dictionary where the values are the letter and the keys \n",
    "#   are the orer of that letter in the alphabet (a-z).  Example:\n",
    "'''\n",
    "{'1':'a','2':'b'...}\n",
    "\n",
    "'''"
   ]
  },
  {
   "cell_type": "code",
   "execution_count": null,
   "metadata": {},
   "outputs": [],
   "source": [
    "# Create a loop which prompts the user for a number, adds it to a list until the user enters 'exit'.  \n",
    "#   The list should be printed on exit"
   ]
  }
 ],
 "metadata": {
  "kernelspec": {
   "display_name": "Python 3",
   "language": "python",
   "name": "python3"
  },
  "language_info": {
   "codemirror_mode": {
    "name": "ipython",
    "version": 3
   },
   "file_extension": ".py",
   "mimetype": "text/x-python",
   "name": "python",
   "nbconvert_exporter": "python",
   "pygments_lexer": "ipython3",
   "version": "3.6.5"
  }
 },
 "nbformat": 4,
 "nbformat_minor": 4
}
