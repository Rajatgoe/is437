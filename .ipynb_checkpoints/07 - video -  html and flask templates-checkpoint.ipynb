{
 "cells": [
  {
   "cell_type": "code",
   "execution_count": null,
   "metadata": {},
   "outputs": [],
   "source": [
    "'''\n",
    "Video: \n",
    "    html,css, static files, Jinja templating engine\n",
    "\n",
    "\n",
    "'''"
   ]
  },
  {
   "cell_type": "markdown",
   "metadata": {},
   "source": [
    "<html>\n",
    "    <head>\n",
    "        <title>My page</title>\n",
    "    </head>\n",
    "    <body>\n",
    "        <div>\n",
    "            <p>Hello Sam,</p>\n",
    "            <p>Good to meet you.</p>\n",
    "            <img src=\"myimage.jpg\" />\n",
    "        </div>\n",
    "    </body>\n",
    "</html>"
   ]
  },
  {
   "cell_type": "code",
   "execution_count": null,
   "metadata": {},
   "outputs": [],
   "source": [
    "'''\n",
    "HTML elements:\n",
    "<a> - anchor => hyperlinks using href attribute, inline element\n",
    "<p> - paragraph => text / general container, block element\n",
    "<img> - img => images, using src attribute, inline element\n",
    "<div> - div => general container, block element\n",
    "<table> - table => creates tables with <tr> and <td> child elements\n",
    "<form> - forms => container for form, <input> and <select> child elements\n",
    "<br/> - break => newline\n",
    "\n",
    "\n",
    "Long tag:\n",
    "<p></p>\n",
    "\n",
    "short tag (cant contain child elements):\n",
    "<br/>\n",
    "'''"
   ]
  }
 ],
 "metadata": {
  "kernelspec": {
   "display_name": "Python 3",
   "language": "python",
   "name": "python3"
  },
  "language_info": {
   "codemirror_mode": {
    "name": "ipython",
    "version": 3
   },
   "file_extension": ".py",
   "mimetype": "text/x-python",
   "name": "python",
   "nbconvert_exporter": "python",
   "pygments_lexer": "ipython3",
   "version": "3.7.0"
  }
 },
 "nbformat": 4,
 "nbformat_minor": 4
}
