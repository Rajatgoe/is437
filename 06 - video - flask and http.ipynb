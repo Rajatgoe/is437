{
 "cells": [
  {
   "cell_type": "code",
   "execution_count": null,
   "metadata": {},
   "outputs": [],
   "source": [
    "'''\n",
    "Video - basic flask server:\n",
    "    -http, client/server,url anatomy,flask app,funcion decorators, endpoints, view functions\n",
    "\n",
    "\n",
    "\n",
    "'''"
   ]
  },
  {
   "cell_type": "code",
   "execution_count": null,
   "metadata": {},
   "outputs": [],
   "source": [
    "'''\n",
    "\n",
    "\n",
    "                                              +----------------------+\n",
    "+-----------------+         request        \\  |                      |\n",
    "|                 | ------------------------- |                      |\n",
    "|     Client      |                        /  |      Server          |\n",
    "|                 |                           |                      |\n",
    "|       o         |                           |                      |\n",
    "|      -|-        |                           |                      |\n",
    "|      / \\        |                           |                      |\n",
    "|                 |                           |                      |\n",
    "|                 |  /     response           |                      |\n",
    "|                 | ------------------------- |                      |\n",
    "|                 |  \\                        |                      |\n",
    "+-----------------+                           |                      |\n",
    "                                              +----------------------+\n",
    "                                                                      \n",
    "                                                                      \n",
    "                        HTTP message                                  \n",
    "                  +---------------------+                             \n",
    "                  |                     |                             \n",
    "                  |header               |                             \n",
    "                  |------------------   |                             \n",
    "                  |payload              |                             \n",
    "                  |(body)               |                             \n",
    "                  |                     |                             \n",
    "                  |                     |                             \n",
    "                  |                     |                             \n",
    "                  |                     |                             \n",
    "                  +---------------------+                             \n",
    "\n",
    "'''"
   ]
  },
  {
   "cell_type": "code",
   "execution_count": null,
   "metadata": {},
   "outputs": [],
   "source": [
    "'''\n",
    "URL anatomy \n",
    "\n",
    "https://www.amazon.com/s?k=laptop&crid=2TC92RNRX2I8F&sprefix=lapto%2Caps%2C118\n",
    "\n",
    "  https         www.amazon.com    /s                   k=laptop\n",
    "                                                          crid=2TC92RNRX2I8F\n",
    "                                                                sprefix=lapto%2Caps%2C118\n",
    "{protocol} :// {domain}      /    {path or endpoint} ?  {key/value pairs (GET)}\n",
    "\n",
    "'''"
   ]
  },
  {
   "cell_type": "code",
   "execution_count": null,
   "metadata": {},
   "outputs": [],
   "source": [
    "#main.py - run in powershell / terminal\n",
    "\n",
    "from flask import Flask\n",
    "from flask import render_template\n",
    "from flask import request,session, redirect, url_for, escape,send_from_directory,make_response \n",
    "\n",
    "app = Flask(__name__,static_url_path='')\n",
    "\n",
    "@app.route('/')\n",
    "def home():\n",
    "    return 'homepage'\n",
    "    \n",
    "@app.route('/s')\n",
    "def s():\n",
    "    return 's'\n",
    "  \n",
    "if __name__ == '__main__':\n",
    "   app.run(host='127.0.0.1',debug=True)   "
   ]
  }
 ],
 "metadata": {
  "kernelspec": {
   "display_name": "Python 3",
   "language": "python",
   "name": "python3"
  },
  "language_info": {
   "codemirror_mode": {
    "name": "ipython",
    "version": 3
   },
   "file_extension": ".py",
   "mimetype": "text/x-python",
   "name": "python",
   "nbconvert_exporter": "python",
   "pygments_lexer": "ipython3",
   "version": "3.7.0"
  }
 },
 "nbformat": 4,
 "nbformat_minor": 4
}
