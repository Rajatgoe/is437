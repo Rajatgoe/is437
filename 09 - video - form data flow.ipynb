{
 "cells": [
  {
   "cell_type": "code",
   "execution_count": null,
   "metadata": {},
   "outputs": [],
   "source": [
    "'''\n",
    "Video:\n",
    "    submitting data, persistant data\n",
    "    \n",
    "    \n",
    "                                                   sequence\n",
    "      wireframes\n",
    "                                  Client                       Server\n",
    "┌───────────────────────┐      ┌────────────────┐           ┌────────────────┐\n",
    "│     selectProd        │      │                │/selectProd│                │\n",
    "│                       │      │                ├──────────►│                │\n",
    "│                       │      │                │           │                │\n",
    "│                       │      │                │           │                │\n",
    "│                       │      │                │◄──────────┤ selectProd.html│\n",
    "│                       │      │                │           │                │\n",
    "│                       │      │                │           │                │\n",
    "│                       │      │                │           │                │\n",
    "│                       │      │                │           │                │\n",
    "└───────────────────────┘      │                │           │                │\n",
    "                               │                │           │                │\n",
    "                               │                │           │                │\n",
    "┌───────────────────────┐      │                │/selectShip│                │\n",
    "│     selectShip        │      │      product=5 ├──────────►│                │\n",
    "│                       │      │                │           │                │\n",
    "│                       │      │                │           │                │\n",
    "│                       │      │                │◄──────────┤ selectShip.html│\n",
    "│                       │      │                │           │                │\n",
    "│                       │      │                │           │                │\n",
    "│                       │      │                │           │                │\n",
    "│                       │      │                │           │                │\n",
    "└───────────────────────┘      │                │           │                │\n",
    "                               │                │           │                │\n",
    "┌───────────────────────┐      │                │           │                │\n",
    "│     confirm           │      │                │/confirm   │                │\n",
    "│                       │      │   product=5&   ├──────────►│                │\n",
    "│                       │      │   ship=fast    │           │                │\n",
    "│                       │      │                │◄──────────┤ confirm.html   │\n",
    "│                       │      │                │           │                │\n",
    "│                       │      └────────────────┘           └────────────────┘\n",
    "└───────────────────────┘\n",
    "\n",
    "'''"
   ]
  },
  {
   "cell_type": "code",
   "execution_count": null,
   "metadata": {},
   "outputs": [],
   "source": []
  }
 ],
 "metadata": {
  "kernelspec": {
   "display_name": "Python 3",
   "language": "python",
   "name": "python3"
  },
  "language_info": {
   "codemirror_mode": {
    "name": "ipython",
    "version": 3
   },
   "file_extension": ".py",
   "mimetype": "text/x-python",
   "name": "python",
   "nbconvert_exporter": "python",
   "pygments_lexer": "ipython3",
   "version": "3.7.0"
  }
 },
 "nbformat": 4,
 "nbformat_minor": 4
}
