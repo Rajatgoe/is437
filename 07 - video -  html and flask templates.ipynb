{
 "cells": [
  {
   "cell_type": "code",
   "execution_count": null,
   "metadata": {},
   "outputs": [],
   "source": [
    "'''\n",
    "Video: \n",
    "    html,css, static files, Jinja templating engine\n",
    "         \n",
    "         \n",
    "         ||\n",
    "         ||\n",
    "        \\  /\n",
    "         \\/\n",
    "+-------------------+       +-------------------+      +-------------------+\n",
    "|                   |       |                   |      |                   |\n",
    "|                   |       |                   |      |                   |\n",
    "|   User Interface  |       |    Logic (App)    |      |    Database       |\n",
    "|   HTML            |       |    Python         |      |    MySQL          |\n",
    "|   Jinja Templates |-------|                   |------|                   |\n",
    "|                   |       |                   |      |                   |\n",
    "|                   |       |                   |      |                   |\n",
    "|                   |       |                   |      |                   |\n",
    "|                   |       |                   |      |                   |\n",
    "+-------------------+       +-------------------+      +-------------------+\n",
    "\n",
    "\n",
    "'''"
   ]
  },
  {
   "cell_type": "raw",
   "metadata": {},
   "source": [
    "<html>\n",
    "    <head>\n",
    "        <title>My page</title>\n",
    "        <link rel=\"stylesheet\" type=\"text/css\" href=\"static/style.css\">\n",
    "    </head>\n",
    "    <body>\n",
    "        <div>\n",
    "            <p style=\"color:red;\">Hello Sam,</p>\n",
    "            <p>Good to meet you.</p>\n",
    "            <img src=\"static/myimage.jpg\" />\n",
    "        </div>\n",
    "    </body>\n",
    "</html>"
   ]
  },
  {
   "cell_type": "code",
   "execution_count": null,
   "metadata": {},
   "outputs": [],
   "source": [
    "'''\n",
    "Terms:\n",
    "-html element/node\n",
    "-head/body\n",
    "-parent/child elements\n",
    "-element attribute\n",
    "\n",
    "\n",
    "'''"
   ]
  },
  {
   "cell_type": "code",
   "execution_count": null,
   "metadata": {},
   "outputs": [],
   "source": [
    "'''\n",
    "HTML elements:\n",
    "<a> - anchor => hyperlinks using href attribute, inline element\n",
    "<p> - paragraph => text / general container, block element\n",
    "<img> - img => images, using src attribute, inline element\n",
    "<div> - div => general container, block element\n",
    "<table> - table => creates tables with <tr> and <td> child elements\n",
    "<form> - forms => container for form, <input> and <select> child elements\n",
    "<br/> - break => newline\n",
    "\n",
    "\n",
    "Long tag:\n",
    "<p></p>\n",
    "\n",
    "short tag (cant contain child elements):\n",
    "<br/>\n",
    "'''"
   ]
  },
  {
   "cell_type": "code",
   "execution_count": null,
   "metadata": {},
   "outputs": [],
   "source": [
    "'''\n",
    "Static files: css, images\n",
    "\n",
    "'''"
   ]
  },
  {
   "cell_type": "raw",
   "metadata": {},
   "source": [
    "# endpoint route for static files\n",
    "@app.route('/static/<path:path>')\n",
    "def send_static(path):\n",
    "    return send_from_directory('static', path)"
   ]
  },
  {
   "cell_type": "raw",
   "metadata": {},
   "source": [
    "#base.html\n",
    "<html>\n",
    "    <head>\n",
    "      {% if title %}\n",
    "        <title>{{ title }} - Home</title>\n",
    "      {% else %}\n",
    "        <title>Welcome to my example</title>\n",
    "      {% endif %}\n",
    "      <link rel=\"stylesheet\" type=\"text/css\" href=\"static/style.css\">\n",
    "    </head>\n",
    "    <body>\n",
    "        <div>Goto: <a href=\"/main\">Main Menu</a></div>\n",
    "        {% block content %}{% endblock %}\n",
    "    </body>\n",
    "</html>"
   ]
  },
  {
   "cell_type": "raw",
   "metadata": {},
   "source": [
    "#home.html\n",
    "{% extends \"base.html\" %}\n",
    "\n",
    "{% block content %}\n",
    "    {% if msg %}\n",
    "        <div id=\"loginmsg\">\n",
    "            {{ msg }}<br>\n",
    "        </div>\n",
    "    {% endif %}\n",
    "{% endblock %}"
   ]
  }
 ],
 "metadata": {
  "kernelspec": {
   "display_name": "Python 3",
   "language": "python",
   "name": "python3"
  },
  "language_info": {
   "codemirror_mode": {
    "name": "ipython",
    "version": 3
   },
   "file_extension": ".py",
   "mimetype": "text/x-python",
   "name": "python",
   "nbconvert_exporter": "python",
   "pygments_lexer": "ipython3",
   "version": "3.7.0"
  }
 },
 "nbformat": 4,
 "nbformat_minor": 4
}
