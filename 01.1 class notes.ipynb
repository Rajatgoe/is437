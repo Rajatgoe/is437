{
 "cells": [
  {
   "cell_type": "code",
   "execution_count": null,
   "metadata": {},
   "outputs": [],
   "source": [
    "'''\n",
    "Live Session\n",
    "    -attendance\n",
    "    -github client to clone is437 repo\n",
    "    -jupyter lab\n",
    "    -solve select problems.\n",
    "    -upload ipynb to slack\n",
    "    \n",
    "\n",
    "'''"
   ]
  },
  {
   "cell_type": "markdown",
   "metadata": {},
   "source": [
    "### Types and strings"
   ]
  },
  {
   "cell_type": "code",
   "execution_count": 5,
   "metadata": {},
   "outputs": [],
   "source": [
    "# 1.1 Assign a variable `s` to a string literal.\n",
    "s = \"Hello\""
   ]
  },
  {
   "cell_type": "code",
   "execution_count": 6,
   "metadata": {},
   "outputs": [],
   "source": [
    "# 1.2 Assign a variable p as an integer.\n",
    "p = 5"
   ]
  },
  {
   "cell_type": "code",
   "execution_count": 7,
   "metadata": {},
   "outputs": [
    {
     "name": "stdout",
     "output_type": "stream",
     "text": [
      "rajat\n"
     ]
    }
   ],
   "source": [
    "# 1.3 Print a string literal.\n",
    "print(\"rajat\")"
   ]
  },
  {
   "cell_type": "code",
   "execution_count": 8,
   "metadata": {},
   "outputs": [
    {
     "name": "stdout",
     "output_type": "stream",
     "text": [
      "Hello Jordon\n"
     ]
    }
   ],
   "source": [
    "# 1.4 Assign a variable `answer` to be the concatination of variables `s` and p``\n",
    "\n",
    "p = \"Jordon\"\n",
    "answer = s +\" \"+ p\n",
    "print(answer)"
   ]
  },
  {
   "cell_type": "code",
   "execution_count": 17,
   "metadata": {},
   "outputs": [
    {
     "name": "stdout",
     "output_type": "stream",
     "text": [
      "20-10-2015\n",
      "20-10-literal\n"
     ]
    }
   ],
   "source": [
    "# 1.5\n",
    "d = 20\n",
    "m = 10\n",
    "y = 2015\n",
    "# Print the date stored as the variables above as a string in the format yyyy-mm-dd\n",
    "date =f\"{d}-{m}-{y}\"\n",
    "rough_work = f\"{d}-{m}-{'literal'}\"  #string literal\n",
    "print(date)\n",
    "print(rough_work)"
   ]
  },
  {
   "cell_type": "code",
   "execution_count": 24,
   "metadata": {},
   "outputs": [
    {
     "name": "stdout",
     "output_type": "stream",
     "text": [
      "20-10-2015\n"
     ]
    }
   ],
   "source": [
    "d = 20\n",
    "m = 10\n",
    "y = 2015\n",
    "date = str(d) + \"-\" +str(m) +\"-\"+ str(y)\n",
    "print(date)"
   ]
  },
  {
   "cell_type": "code",
   "execution_count": 18,
   "metadata": {},
   "outputs": [
    {
     "name": "stdout",
     "output_type": "stream",
     "text": [
      "10:15:0\n"
     ]
    }
   ],
   "source": [
    "# 1.6\n",
    "m = 15\n",
    "s = 0\n",
    "h = 10\n",
    "# print the time stored in the variables above in the format hh:mm:ss\n",
    "format = f\"{h}:{m}:{s}\"\n",
    "print(format)"
   ]
  },
  {
   "cell_type": "code",
   "execution_count": 26,
   "metadata": {},
   "outputs": [
    {
     "name": "stdout",
     "output_type": "stream",
     "text": [
      "10:44 PM\n"
     ]
    }
   ],
   "source": [
    "# 1.7 Add the string `PM` to the end of the string `ts` defined below. Save the result as a new string `ts`:\n",
    "ts = \"10:44\"\n",
    "ts += \" PM\"\n",
    "print(ts)"
   ]
  },
  {
   "cell_type": "markdown",
   "metadata": {},
   "source": [
    "### Collections"
   ]
  },
  {
   "cell_type": "code",
   "execution_count": null,
   "metadata": {},
   "outputs": [],
   "source": [
    "# 2.1 Create a list of ints, `l`\n",
    "l = [3,3,6]\n"
   ]
  },
  {
   "cell_type": "code",
   "execution_count": null,
   "metadata": {},
   "outputs": [],
   "source": [
    "# 2.2 Create a list of strings literals `sl`\n",
    "sl = [\"adam\",\"josh\"]"
   ]
  },
  {
   "cell_type": "code",
   "execution_count": 28,
   "metadata": {},
   "outputs": [
    {
     "name": "stdout",
     "output_type": "stream",
     "text": [
      "FROM\n",
      "4\n"
     ]
    }
   ],
   "source": [
    "# 2.3 print the string `FROM` from the list below:\n",
    "col = \"*\"\n",
    "table = \"users\"\n",
    "sql = [\"SELECT\",col,\"FROM\",table]\n",
    "print(sql[2])\n",
    "print(len(sql))"
   ]
  },
  {
   "cell_type": "code",
   "execution_count": 44,
   "metadata": {},
   "outputs": [
    {
     "name": "stdout",
     "output_type": "stream",
     "text": [
      "['SELECT' '*' 'FROM' 'users']\n"
     ]
    }
   ],
   "source": [
    "# 2.4 assign the list above as single string, `ss` which is composed of the list items seperated by spaces\n",
    "ss = f\"{sql}\".replace(\",\", \"\")\n",
    "print(ss)"
   ]
  },
  {
   "cell_type": "code",
   "execution_count": 48,
   "metadata": {},
   "outputs": [
    {
     "name": "stdout",
     "output_type": "stream",
     "text": [
      "SELECT * FROM users\n"
     ]
    }
   ],
   "source": [
    "ss = \" \".join(sql)   #\" \" glue\n",
    "print(ss)"
   ]
  },
  {
   "cell_type": "code",
   "execution_count": 51,
   "metadata": {},
   "outputs": [
    {
     "name": "stdout",
     "output_type": "stream",
     "text": [
      "SELECT * FROM users ORDER BY name\n"
     ]
    }
   ],
   "source": [
    "# 2.5 add the following strings (in order_by) to the string `ss`\n",
    "ofn = \"name\"\n",
    "order_by = [\"ORDER\", \"BY\", ofn]\n",
    "s = ss + \" \" + \" \".join(order_by)\n",
    "print(s)"
   ]
  },
  {
   "cell_type": "code",
   "execution_count": 52,
   "metadata": {},
   "outputs": [
    {
     "name": "stdout",
     "output_type": "stream",
     "text": [
      "['SELECT', '*', 'FROM', 'users', 'ORDER', 'BY', 'name']\n"
     ]
    }
   ],
   "source": [
    "# 2.6 Assign a new list `sql_l` which contains all the items from sql and order_by.  This list should not contain any lists.\n",
    "sql_l = sql + order_by\n",
    "print(sql_l)"
   ]
  },
  {
   "cell_type": "markdown",
   "metadata": {},
   "source": [
    "### Loops / iteration"
   ]
  },
  {
   "cell_type": "code",
   "execution_count": 83,
   "metadata": {},
   "outputs": [
    {
     "name": "stdout",
     "output_type": "stream",
     "text": [
      "1) Boston\n",
      "2) New York\n",
      "3) Los Angles\n",
      "4) Dallas\n"
     ]
    }
   ],
   "source": [
    "# 3.1 Create a loop which prints each item in the list bleow on it own line with a number next to it\n",
    "\n",
    "ml = ['Boston','New York','Los Angles','Dallas']\n",
    "n = 0\n",
    "for city in ml:\n",
    "    n +=1\n",
    "    print(str(n)+ \") \" + city)\n",
    "    \n",
    "    \n"
   ]
  },
  {
   "cell_type": "code",
   "execution_count": 84,
   "metadata": {},
   "outputs": [
    {
     "name": "stdout",
     "output_type": "stream",
     "text": [
      "1.) Boston\n",
      "2.) New York\n",
      "3.) Los Angles\n",
      "4.) Dallas\n"
     ]
    }
   ],
   "source": [
    "ml = ['Boston','New York','Los Angles','Dallas']\n",
    "n = 0\n",
    "for city in ml:\n",
    "    n +=1\n",
    "    print(f\"{n}.) {city}\")    "
   ]
  },
  {
   "cell_type": "code",
   "execution_count": 98,
   "metadata": {},
   "outputs": [
    {
     "name": "stdout",
     "output_type": "stream",
     "text": [
      "City      |    Temp\n",
      "=============|============\n",
      "Boston  |  43\n",
      "New York  |  47\n",
      "Los Angles  |  71\n",
      "Dallas  |  68\n"
     ]
    }
   ],
   "source": [
    "# Create a loop which prints each kv pair like so (whitespace does not matter):\n",
    "'''\n",
    "City       | Temp.\n",
    "========== | ======\n",
    "Boston     | 43\n",
    "New York   | 47\n",
    "Los Angles | 71\n",
    "Dallas     | 68\n",
    "'''\n",
    "wx = {'Boston':43,'New York':47,'Los Angles':71,'Dallas':68}\n",
    "\n",
    "print(\"City\" +\"      |    \" \"Temp\")\n",
    "print(\"=============|============\")\n",
    "for city, temp in wx.items():\n",
    "    \n",
    "    print(f\"{city}  |  {temp}\")\n",
    "    \n",
    "    \n",
    "\n",
    "\n",
    "\n"
   ]
  },
  {
   "cell_type": "code",
   "execution_count": 130,
   "metadata": {},
   "outputs": [
    {
     "name": "stdout",
     "output_type": "stream",
     "text": [
      "City      |     \"Temp\n",
      "============= |============\n",
      "Boston   |  43\n",
      "New York   |  47\n",
      "Los Angles   |  71\n",
      "Dallas   |  68\n"
     ]
    }
   ],
   "source": [
    "# 3.2 create a loop which creates the same output as above except it stores it to a \n",
    "#variable 's'\n",
    "\n",
    "wx = {'Boston':43,'New York':47,'Los Angles':71,'Dallas':68}\n",
    "s = '''City      |     \"Temp\n",
    "============= |============'''\n",
    "\n",
    "for city, temp in wx.items():\n",
    "    \n",
    "    s += f\"\\n{city}   |  {temp}\"\n",
    "    \n",
    "print(s)\n",
    "\n",
    "f = open('cities.txt','w')\n",
    "f.write(s)\n",
    "f.close()\n",
    "\n",
    "print(s)\n",
    "f = open('cities.csv','w')\n",
    "f.write(s)\n",
    "f.close()\n",
    "    \n",
    "    "
   ]
  },
  {
   "cell_type": "code",
   "execution_count": 3,
   "metadata": {},
   "outputs": [
    {
     "name": "stdout",
     "output_type": "stream",
     "text": [
      "[0, 1, 2, 3, 4, 5, 6, 7, 8, 9, 10]\n"
     ]
    }
   ],
   "source": [
    "# 3.3 Create a loop which generates a list of all the numbers between 0 and 10.  \n",
    "#print the list\n",
    "n=0\n",
    "l = []\n",
    "while n < 11:  # if this condition is true\n",
    "    \n",
    "    #print(n)\n",
    "    l.append(n)\n",
    "    n+=1\n",
    "print(l)\n",
    "\n",
    "\n",
    "\n",
    "            \n",
    "        \n",
    "\n",
    "\n"
   ]
  },
  {
   "cell_type": "code",
   "execution_count": 28,
   "metadata": {},
   "outputs": [
    {
     "name": "stdout",
     "output_type": "stream",
     "text": [
      "a\n",
      "b\n",
      "c\n",
      "d\n",
      "e\n",
      "f\n",
      "g\n",
      "h\n",
      "i\n",
      "j\n",
      "k\n",
      "l\n",
      "m\n",
      "n\n",
      "o\n",
      "p\n",
      "q\n",
      "r\n",
      "s\n",
      "t\n",
      "u\n",
      "v\n",
      "w\n",
      "x\n",
      "y\n",
      "z\n"
     ]
    }
   ],
   "source": [
    "# 3.4 Create a loop which generates a list of all the letters between a and z.  print the list \n",
    "#HINT: (use chr codes)\n",
    "#chr = 0 \n",
    "\n",
    "n = 97\n",
    "while n < 97+26:            # 26 is a to z  or n<123\n",
    "    #l.append(n)\n",
    "    print(chr(n))\n",
    "    n+=1\n",
    "\n",
    "#print(chr(100))\n",
    "#print(chr(101))\n",
    "#print(chr(102))"
   ]
  },
  {
   "cell_type": "code",
   "execution_count": 49,
   "metadata": {},
   "outputs": [
    {
     "name": "stdout",
     "output_type": "stream",
     "text": [
      "a b c d e f g h i j k l m n o p q r s t u v w x y z "
     ]
    }
   ],
   "source": [
    "# buffering method\n",
    "n = 97\n",
    "\n",
    "while n < 97+26:            # 26 is a to z  or n<123\n",
    "\n",
    "    print(chr(n),end=\" \")  #blank space \"\"\n",
    "    n+=1                \n"
   ]
  },
  {
   "cell_type": "code",
   "execution_count": 3,
   "metadata": {},
   "outputs": [
    {
     "name": "stdout",
     "output_type": "stream",
     "text": [
      "{'1': 'a', '2': 'b', '3': 'c', '4': 'd', '5': 'e', '6': 'f', '7': 'g', '8': 'h', '9': 'i', '10': 'j', '11': 'k', '12': 'l', '13': 'm', '14': 'n', '15': 'o', '16': 'p', '17': 'q', '18': 'r', '19': 's', '20': 't', '21': 'u', '22': 'v', '23': 'w', '24': 'x', '25': 'y', '26': 'z'}\n"
     ]
    }
   ],
   "source": [
    "# 3.5 create a loop which creates a dictionary where the values are the letter and the keys \n",
    "#   are the order of that letter in the alphabet (a-z).  Example:\n",
    "'''\n",
    "{'1':'a','2':'b'...}\n",
    "\n",
    "'''\n",
    "n = 97\n",
    "i = 1\n",
    "d= {}\n",
    "while n < 97+26:            # 26 is a to z  or n<123\n",
    "    v = chr(n)  #blank space \"\"\n",
    "    k = str(i)\n",
    "    d[k]=v\n",
    "    i+=1\n",
    "    n+=1  \n",
    "print(d)\n",
    "     "
   ]
  },
  {
   "cell_type": "raw",
   "metadata": {},
   "source": [
    "\"\\n{'1':'a','2':'b'...}\\n\\n\""
   ]
  },
  {
   "cell_type": "code",
   "execution_count": null,
   "metadata": {},
   "outputs": [],
   "source": [
    "# 3.6 Create a loop which prompts the user for a number, adds it to a list until the user enters 'exit'.  \n",
    "#   The list should be printed on exit"
   ]
  },
  {
   "cell_type": "code",
   "execution_count": 41,
   "metadata": {},
   "outputs": [
    {
     "name": "stdout",
     "output_type": "stream",
     "text": [
      "a|b|c\n",
      "=====\n",
      "1|2|3\n",
      "4|5|6\n"
     ]
    }
   ],
   "source": [
    "'''\n",
    "a | b | c\n",
    "=============\n",
    "1 | 2 | 3\n",
    "4 | 5 | 6\n",
    "'''\n",
    "\n",
    "# 3.7 Write a script which prints the string below called 'data_str' in the format above\n",
    "n=0\n",
    "data_str = '''a,b,c\n",
    "1,2,3\n",
    "4,5,6'''\n",
    "rows = data_str.split('\\n')  #lsit of string\n",
    "for row in rows:\n",
    "    if n==1:\n",
    "        print(\"=====\")\n",
    "    #print(row)\n",
    "    print(row.replace(\",\",\"|\"))\n",
    "    n+=1\n",
    "    "
   ]
  },
  {
   "cell_type": "code",
   "execution_count": null,
   "metadata": {},
   "outputs": [],
   "source": [
    "\n",
    "    \n"
   ]
  },
  {
   "cell_type": "code",
   "execution_count": null,
   "metadata": {},
   "outputs": [],
   "source": [
    "# 3.8 Write a script which takes the string data below and prints the day and ip of each request\n",
    "log_data = '''67.249.20.246 - - [06/Mar/2018:15:03:34 +0000] \"GET /assessment/KHSV HTTP/1.1\" 200 2895 \"https://hilite.clarksonmsda.org/airports\" \"Mozilla/5.0 (Macintosh; Intel Mac OS X 10_13_3) AppleWebKit/537.36 (KHTML, like Gecko) Chrome/64.0.3282.186 Safari/537.36\" \"-\"\n",
    "67.249.20.246 - - [06/Mar/2018:15:03:36 +0000] \"GET /files/KHSV/5a9c7102c43c4b00115eb111 HTTP/1.1\" 200 60543 \"https://hilite.clarksonmsda.org/assessment/KHSV\" \"Mozilla/5.0 (Macintosh; Intel Mac OS X 10_13_3) AppleWebKit/537.36 (KHTML, like Gecko) Chrome/64.0.3282.186 Safari/537.36\" \"-\"\n",
    "67.249.20.246 - - [06/Mar/2018:15:03:40 +0000] \"GET /getData/KHSV/5a9c7102c43c4b00115eb111 HTTP/1.1\" 200 4310723 \"https://hilite.clarksonmsda.org/files/KHSV/5a9c7102c43c4b00115eb111\" \"Mozilla/5.0 (Macintosh; Intel Mac OS X 10_13_3) AppleWebKit/537.36 (KHTML, like Gecko) Chrome/64.0.3282.186 Safari/537.36\" \"-\"\n",
    "104.229.180.74 - - [06/Mar/2018:15:05:18 +0000] \"GET /airports HTTP/1.1\" 200 4471 \"https://hilite.clarksonmsda.org/airports\" \"Mozilla/5.0 (Windows NT 10.0; Win64; x64) AppleWebKit/537.36 (KHTML, like Gecko) Chrome/64.0.3282.140 Safari/537.36\" \"-\"\n",
    "196.52.43.86 - - [06/Mar/2018:16:48:54 +0000] \"GET / HTTP/1.0\" 200 2518 \"-\" \"Mozilla/5.0(WindowsNT6.1;rv:31.0)Gecko/20100101Firefox/31.0\" \"-\"\n",
    "38.142.119.122 - - [06/Mar/2018:17:40:06 +0000] \"GET / HTTP/1.1\" 200 2518 \"-\" \"-\" \"-\"\n",
    "46.161.55.107 - - [06/Mar/2018:18:07:05 +0000] \"GET /css/main_page.css HTTP/1.1\" 404 1635 \"-\" \"python-requests/2.18.4\" \"-\"\n",
    "213.202.230.144 - - [06/Mar/2018:18:19:35 +0000] \"\\x03\\x00\\x00/*\\xE0\\x00\\x00\\x00\\x00\\x00Cookie: mstshash=Administr\" 400 173 \"-\" \"-\" \"-\"'''"
   ]
  },
  {
   "cell_type": "code",
   "execution_count": null,
   "metadata": {},
   "outputs": [],
   "source": []
  }
 ],
 "metadata": {
  "kernelspec": {
   "display_name": "Python 3 (ipykernel)",
   "language": "python",
   "name": "python3"
  },
  "language_info": {
   "codemirror_mode": {
    "name": "ipython",
    "version": 3
   },
   "file_extension": ".py",
   "mimetype": "text/x-python",
   "name": "python",
   "nbconvert_exporter": "python",
   "pygments_lexer": "ipython3",
   "version": "3.7.0"
  }
 },
 "nbformat": 4,
 "nbformat_minor": 4
}
